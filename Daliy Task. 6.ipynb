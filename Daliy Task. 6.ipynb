{
 "cells": [
  {
   "cell_type": "markdown",
   "id": "00bdda66-6a28-4391-b44e-13d2f34d43fe",
   "metadata": {},
   "source": [
    "### Python Task: Conditional Statements"
   ]
  },
  {
   "cell_type": "markdown",
   "id": "5af00626-901b-4ce3-9e5d-64e1873e69f4",
   "metadata": {},
   "source": [
    "### Section 1: Conditional Statements"
   ]
  },
  {
   "cell_type": "markdown",
   "id": "54596566-2e07-4bc8-ae44-1d0b5424e580",
   "metadata": {},
   "source": [
    "### 1. Write a Python program that accepts an integer from the user and determines whether it is a multiple of 3. Use an if-else statement to display the result.\n",
    "\n",
    "Input1:\n",
    "\n",
    "\n",
    "Enter a number: 9\n",
    "\n",
    "\n",
    "Output1:\n",
    "\n",
    "9 is a multiple of 3.\n",
    "\n",
    "Input2:\n",
    "\n",
    "Enter a number: 7\n",
    "\n",
    "\n",
    "Output2:\n",
    "\n",
    "7 is not a multiple of 3.\n"
   ]
  },
  {
   "cell_type": "code",
   "execution_count": 35,
   "id": "fe0bb7a5-f00e-43a4-a010-048923e9f5dc",
   "metadata": {},
   "outputs": [
    {
     "name": "stdin",
     "output_type": "stream",
     "text": [
      "Enter a number : 4\n"
     ]
    },
    {
     "name": "stdout",
     "output_type": "stream",
     "text": [
      "4 is not  a multiple of 3\n"
     ]
    }
   ],
   "source": [
    "x=int(input(\"Enter a number :\"))\n",
    "if x%3==0:\n",
    "    print(f\"{x} is a multiple of 3\")\n",
    "else:\n",
    "    print(f\"{x} is not  a multiple of 3\")"
   ]
  },
  {
   "cell_type": "markdown",
   "id": "1035806f-c24a-4753-9a20-9505126bb9ad",
   "metadata": {},
   "source": [
    "### 2. Create a program that asks the user to enter their age and nationality. Based on the input, use nested if statements to display a customized message, such as identifying if the user is a minor from a specific country.\n",
    "Input:\n",
    "\n",
    "Enter your age: 16\n",
    "\n",
    "Enter your nationality: India\n",
    "\n",
    "Output:\n",
    "\n",
    "You are a minor from the India.\n",
    "\n"
   ]
  },
  {
   "cell_type": "code",
   "execution_count": 53,
   "id": "8d0d4ac6-781c-4914-a602-f6e26d20227b",
   "metadata": {},
   "outputs": [
    {
     "name": "stdin",
     "output_type": "stream",
     "text": [
      "Enter Your age : 85\n",
      "Enter the Your nationality : india\n"
     ]
    },
    {
     "name": "stdout",
     "output_type": "stream",
     "text": [
      "You are a Major from the india\n"
     ]
    }
   ],
   "source": [
    "age=int(input(\"Enter Your age :\"))\n",
    "nationality=input(\"Enter the Your nationality :\")\n",
    "if age <=18:\n",
    "    print(f\"You are a Minor from the {nationality}\")\n",
    "else:\n",
    "    print(f\"You are a Major from the {nationality}\")"
   ]
  },
  {
   "cell_type": "markdown",
   "id": "cd8ae641-69a3-451b-bca1-0fc092bc7b29",
   "metadata": {},
   "source": [
    "### 3.Develop a program that converts a student's numeric score into a letter grade based on a predefined grading scale (A, B, C, D, F). Use if-elif-else conditions to determine the corresponding grade.\n",
    "Input:\n",
    "\n",
    "Enter the student's score: 85\n",
    "\n",
    "Output:\n",
    "\n",
    "Grade: B\n"
   ]
  },
  {
   "cell_type": "code",
   "execution_count": 45,
   "id": "3abf45fb-8893-46bc-933e-eff629c63e78",
   "metadata": {},
   "outputs": [
    {
     "name": "stdin",
     "output_type": "stream",
     "text": [
      "Enter the student's  65\n"
     ]
    },
    {
     "name": "stdout",
     "output_type": "stream",
     "text": [
      "Grade:C\n"
     ]
    }
   ],
   "source": [
    "scores=int(input(\"Enter the student's \"))\n",
    "if scores >=95:\n",
    "    print(\"Grade: O\")\n",
    "elif scores <=90 and scores>95:\n",
    "    print(\"Grade :A\")\n",
    "elif scores<=80 and scores>89:\n",
    "    print(\"Grade:B\")\n",
    "elif scores<=70 and scores>60:\n",
    "    print(\"Grade:C\")\n",
    "elif scores<50 and scores>40:\n",
    "    print(\"Grade :D\")\n",
    "else:\n",
    "    print(\"Grade:E\")"
   ]
  },
  {
   "cell_type": "markdown",
   "id": "74a78431-4131-4095-83a5-5ae512bf6038",
   "metadata": {},
   "source": [
    "### 4. Write a Python script that checks if a given year is a leap year. The program should consider the rules for leap years: divisible by 4, not divisible by 100 unless also divisible by 400.\n",
    "Input1:\n",
    "\n",
    "Enter a year: 2024\n",
    "\n",
    "Output1:\n",
    "\n",
    "2024 is a leap year.\n",
    "\n",
    "Input2:\n",
    "\n",
    "Enter a year: 2023\n",
    "\n",
    "Output2:\n"
   ]
  },
  {
   "cell_type": "code",
   "execution_count": 3,
   "id": "64203c8c-87f0-40cd-a6dc-dce649dd3cdf",
   "metadata": {},
   "outputs": [
    {
     "name": "stdin",
     "output_type": "stream",
     "text": [
      "Enter a year 2003\n"
     ]
    },
    {
     "name": "stdout",
     "output_type": "stream",
     "text": [
      "2003 is not a  leap year\n"
     ]
    }
   ],
   "source": [
    "year=int(input(\"Enter a year\"))\n",
    "if (year%4 ==0  and year%100!=0) or year%400==0:\n",
    "    print(f\"{year} is a leap year\")\n",
    "else:\n",
    "    print(f\"{year} is not a  leap year\")"
   ]
  },
  {
   "cell_type": "markdown",
   "id": "cdb8b9a4-beaa-404d-951c-8c2862b1947f",
   "metadata": {},
   "source": [
    "### 5. Create a BMI calculator that accepts a person's height (in meters) and weight (in kilograms), calculates the BMI, and categorizes it as Underweight, Normal, Overweight, or Obese using predefined thresholds.\n"
   ]
  },
  {
   "cell_type": "raw",
   "id": "1d148199-b176-4354-b883-068478b8c948",
   "metadata": {},
   "source": [
    "Input:\n",
    "Enter weight (kg): 70\n",
    "Enter height (m): 1.75\n",
    "Output:\n",
    "Your BMI is 22.9 - Normal weight.\n"
   ]
  },
  {
   "cell_type": "code",
   "execution_count": 118,
   "id": "e35deff1-c457-4f9e-91fe-8ccdd493b98e",
   "metadata": {},
   "outputs": [
    {
     "name": "stdin",
     "output_type": "stream",
     "text": [
      "Enter your weight 99\n",
      "Enter your height in meters 1.2\n"
     ]
    },
    {
     "name": "stdout",
     "output_type": "stream",
     "text": [
      "Your BMI is 68.75 - Severe Obesity\n"
     ]
    }
   ],
   "source": [
    "weight=float(input(\"Enter your weight\"))\n",
    "height=float(input(\"Enter your height in meters\"))\n",
    "bmi=weight/height**2\n",
    "if bmi<18.5:\n",
    "    print(f'Your BMI is {bmi} - Under weight')\n",
    "elif bmi>=18.5 and bmi<24.9:\n",
    "    print(f\"Your BMI is {bmi} - Healthy weight\")\n",
    "elif bmi>=25 and bmi<29.9:\n",
    "    print(f\"Your BMI is {bmi} - Over weight\")\n",
    "elif bmi>=30 and bmi<39.9:\n",
    "    print(f\"Your BMI is {bmi} - Obesity\")\n",
    "elif bmi>=40:\n",
    "    print(f\"Your BMI is {bmi} - Severe Obesity\")"
   ]
  },
  {
   "cell_type": "markdown",
   "id": "02053ff2-6230-4394-8617-6ea6c9a77a33",
   "metadata": {},
   "source": [
    "### 6. Build a program that presents a menu for basic arithmetic operations (addition, subtraction, multiplication, and division). The user should enter two numbers and choose an operation, after which the program will display the computed result.\n"
   ]
  },
  {
   "cell_type": "raw",
   "id": "9adbb76d-cce5-47a3-9c5b-c432da164b59",
   "metadata": {},
   "source": [
    "Select operation:\n",
    "1. Addition\n",
    "2. Subtraction\n",
    "3. Multiplication\n",
    "4. Division\n",
    "Enter choice (1/2/3/4): 3\n",
    "Enter first number: 6\n",
    "Enter second number: 4\n",
    "Output:\n",
    "Result: 6 * 4 = 24\n"
   ]
  },
  {
   "cell_type": "code",
   "execution_count": 121,
   "id": "e60770df-56d8-4b62-97cf-6b7df9d589db",
   "metadata": {},
   "outputs": [
    {
     "name": "stdin",
     "output_type": "stream",
     "text": [
      "Enter value 1: 6\n",
      "Enter value 2: 4\n",
      "Enter what type of operation u want: *\n"
     ]
    },
    {
     "name": "stdout",
     "output_type": "stream",
     "text": [
      "After multiply 24\n"
     ]
    }
   ],
   "source": [
    "input1=int(input(\"Enter value 1:\"))\n",
    "input2=int(input(\"Enter value 2:\"))\n",
    "input3=input(\"Enter what type of operation u want:\")\n",
    "if input3 == \"+\":\n",
    "    x=input1+input2\n",
    "    print(f\"After Add { x}\")\n",
    "elif input3 == \"-\":\n",
    "    x= input1-input2\n",
    "    print(f\"After sub { x}\")\n",
    "elif input3 == \"*\":\n",
    "    x=input1*input2\n",
    "    print(f\"After multiply { x}\")\n",
    "elif input3 == \"/\":\n",
    "    x=input1/input2\n",
    "    print(f\"After divison { x}\")\n",
    "elif input3 == \"//\":\n",
    "    x=input1//input2\n",
    "    print(f\"After divison { x}\")\n",
    "elif input3 == \"**\":\n",
    "    x=input1**input2\n",
    "    print(f\"After expoentional { x}\")\n",
    "elif input3 == \"%\":\n",
    "    x=input1%input2\n",
    "    print(f\"After divison { x}\")\n",
    "else:\n",
    "    print(\"Chose Right Arthmic operator\")"
   ]
  },
  {
   "cell_type": "markdown",
   "id": "d2be4ee6-7950-4384-a9ce-4a05da7ffcb9",
   "metadata": {},
   "source": [
    "### 7. Develop a program that allows users to convert temperatures between Celsius and Fahrenheit. The user should specify the conversion direction and input a temperature value to receive the converted result.\n"
   ]
  },
  {
   "cell_type": "raw",
   "id": "ebd9cf47-bd5b-41b8-839e-1a65badaf89a",
   "metadata": {},
   "source": [
    "Input:\n",
    "Choose conversion:\n",
    "1. Celsius to Fahrenheit\n",
    "2. Fahrenheit to Celsius\n",
    "\n",
    "Enter choice (1/2): 1\n",
    "Enter temperature in Celsius: 25\n",
    "Output:\n",
    "25°C is equal to 77°F.\n"
   ]
  },
  {
   "cell_type": "code",
   "execution_count": 150,
   "id": "0b59c10f-4398-433a-96df-e4e24b1a686e",
   "metadata": {},
   "outputs": [
    {
     "name": "stdin",
     "output_type": "stream",
     "text": [
      "Choose conversion:\n",
      "          1. Celsius to Fahrenheit\n",
      "          2. Fahrenheit to Celsius 2\n",
      "enter temp 77\n"
     ]
    },
    {
     "name": "stdout",
     "output_type": "stream",
     "text": [
      "77F is equal to 25.0°C.\n"
     ]
    }
   ],
   "source": [
    "conversion=int(input(\"\"\"Choose conversion:\n",
    "          1. Celsius to Fahrenheit\n",
    "          2. Fahrenheit to Celsius\"\"\"))\n",
    "c=0\n",
    "f=0\n",
    "temp=int(input(\"enter temp\"))\n",
    "if conversion ==1:\n",
    "    f=temp*(9/5)+32\n",
    "    print(f\"{temp}°C is equal to {f}F.\")\n",
    "elif conversion ==2:\n",
    "    c = (temp - 32) * 5 / 9\n",
    "    print(f\"{temp}F is equal to {c}°C.\")"
   ]
  },
  {
   "cell_type": "markdown",
   "id": "dd3cf3d2-6e50-429a-bce7-74a3e4ceec4d",
   "metadata": {},
   "source": [
    "### 8. Write a Python program that takes a user-inputted password and evaluates its strength based on the presence of uppercase letters, lowercase letters, numbers, and special characters.\n"
   ]
  },
  {
   "cell_type": "raw",
   "id": "32820bc2-8c3e-4eaa-87e2-3ab35628c5f8",
   "metadata": {},
   "source": [
    "Input1:\n",
    "Enter your password: StrongPass123!\n",
    "Output1:\n",
    "Password Strength: Strong\n",
    "Input2:\n",
    "Enter your password: weakpass\n",
    "Output2:\n",
    "Password Strength: Weak"
   ]
  },
  {
   "cell_type": "code",
   "execution_count": 40,
   "id": "570b4d81-8ad1-43d6-84cc-37a6524bc6d0",
   "metadata": {},
   "outputs": [
    {
     "name": "stdin",
     "output_type": "stream",
     "text": [
      "Enter your password: Vamsi123\n"
     ]
    },
    {
     "name": "stdout",
     "output_type": "stream",
     "text": [
      "Weak\n"
     ]
    }
   ],
   "source": [
    "password=input(\"Enter your password:\")\n",
    "capital = 0\n",
    "small = 0\n",
    "numerical = 0\n",
    "special = 0 \n",
    "if len(password)>=8:\n",
    "    for i in password:\n",
    "        if i.isupper():\n",
    "            capital+=1\n",
    "        elif i.islower():\n",
    "            small+=1\n",
    "        elif i.isnumeric():\n",
    "            numerical+=1\n",
    "        else:\n",
    "            special+=1\n",
    "\n",
    "    if (capital >=1 and small >=1 and numerical >= 1 and special >=1):\n",
    "        print(\"Strong password\")\n",
    "    else:\n",
    "        print(\"Weak\")\n",
    "else:\n",
    "    print(\"Enter the correct format\")\n",
    "\n"
   ]
  },
  {
   "cell_type": "markdown",
   "id": "24f10045-9f92-4c2f-87a4-1471d50d9180",
   "metadata": {},
   "source": [
    "### 9. Create a Python program that simulates an inventory management system. The system should allow the user to add items, update their quantity, remove items, and display the inventory using a dictionary.\n"
   ]
  },
  {
   "cell_type": "raw",
   "id": "07fc53df-e673-43a0-a66e-e824eb92317e",
   "metadata": {},
   "source": [
    "\n",
    "Input : \n",
    "\n",
    "Choose an operation:\n",
    "1. Add Item\n",
    "2. Update Quantity\n",
    "3. Remove Item\n",
    "4. Display Inventory\n",
    "\n",
    "Enter your choice: 1\n",
    "Enter item name: Laptop\n",
    "Enter quantity: 5\n"
   ]
  },
  {
   "cell_type": "code",
   "execution_count": 18,
   "id": "c98a6d3b-5f3c-4d69-ab9c-72519f281535",
   "metadata": {},
   "outputs": [],
   "source": [
    "Inventory={}"
   ]
  },
  {
   "cell_type": "code",
   "execution_count": 33,
   "id": "18b9416b-9c76-4583-b0e6-5cd1c66472b0",
   "metadata": {},
   "outputs": [
    {
     "name": "stdin",
     "output_type": "stream",
     "text": [
      "Choose an operation:\n",
      "1. Add Item\n",
      "2. Update Quantity\n",
      "3. Remove Item\n",
      "4. Display Inventory 3\n",
      "Enter the key you want to Remove: mobiles\n"
     ]
    },
    {
     "name": "stdout",
     "output_type": "stream",
     "text": [
      "Item is Removed:\n"
     ]
    }
   ],
   "source": [
    "\n",
    "operation=int(input(\"\"\"Choose an operation:\n",
    "1. Add Item\n",
    "2. Update Quantity\n",
    "3. Remove Item\n",
    "4. Display Inventory\"\"\"))\n",
    "if operation==1:\n",
    "    x=input(\"Enter any item you want to Add:\")\n",
    "    y=int(input(\"Enter Quantity :\"))\n",
    "    Inventory[x]=y\n",
    "    print(\"Items added\")\n",
    "    \n",
    "elif operation==2:\n",
    "    x=input(\"Enter the key you want to update:\")\n",
    "    y=int(input(\"Enter Updated Quantity\"))\n",
    "    Inventory.update({x:y})\n",
    "    print(\"Items Updated\")\n",
    "elif operation==3:\n",
    "    x=input(\"Enter the key you want to Remove:\")\n",
    "    Inventory.pop(x)\n",
    "    print(\"Item is Removed:\")\n",
    "elif operation==4:\n",
    "    print(Inventory)"
   ]
  },
  {
   "cell_type": "code",
   "execution_count": 35,
   "id": "860af682-b274-4ab2-a357-cb4e64f189ac",
   "metadata": {},
   "outputs": [
    {
     "data": {
      "text/plain": [
       "{}"
      ]
     },
     "execution_count": 35,
     "metadata": {},
     "output_type": "execute_result"
    }
   ],
   "source": [
    "Inventory"
   ]
  },
  {
   "cell_type": "code",
   "execution_count": null,
   "id": "00806b6e-b61b-45c8-9a8f-2e4a8be68811",
   "metadata": {},
   "outputs": [],
   "source": []
  },
  {
   "cell_type": "code",
   "execution_count": null,
   "id": "1743ba32-a020-4737-acde-eea2f77d2e64",
   "metadata": {},
   "outputs": [],
   "source": []
  }
 ],
 "metadata": {
  "kernelspec": {
   "display_name": "Python [conda env:base] *",
   "language": "python",
   "name": "conda-base-py"
  },
  "language_info": {
   "codemirror_mode": {
    "name": "ipython",
    "version": 3
   },
   "file_extension": ".py",
   "mimetype": "text/x-python",
   "name": "python",
   "nbconvert_exporter": "python",
   "pygments_lexer": "ipython3",
   "version": "3.12.7"
  }
 },
 "nbformat": 4,
 "nbformat_minor": 5
}
