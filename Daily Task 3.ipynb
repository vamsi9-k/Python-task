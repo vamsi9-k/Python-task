{
 "cells": [
  {
   "cell_type": "markdown",
   "id": "ac9f693a-7102-49f7-815a-d1bac4b4e90c",
   "metadata": {},
   "source": [
    "## Python Task: List\n",
    "## Section 1: List\n"
   ]
  },
  {
   "cell_type": "markdown",
   "id": "39bd8757-3769-4ab9-bc5b-5e07f14aac0a",
   "metadata": {},
   "source": [
    "## 1. Create an empty list numbers. Append 10, 20, and 30 to it. Then change the second element to 25 and print the updated list.\n",
    "### Input:\n",
    "### numbers = []\n",
    "### Output:\n",
    "### [10, 25, 30]\n"
   ]
  },
  {
   "cell_type": "code",
   "execution_count": 22,
   "id": "4fb91ec6-fe31-4413-943a-e6e507ae6336",
   "metadata": {},
   "outputs": [
    {
     "name": "stdout",
     "output_type": "stream",
     "text": [
      "[10, 20, 30]\n",
      "[10, 25, 30]\n"
     ]
    }
   ],
   "source": [
    "empty_list=[]\n",
    "empty_list.append(10)\n",
    "empty_list.append(20)\n",
    "empty_list.append(30)\n",
    "print(empty_list)\n",
    "empty_list[1]=25\n",
    "print(empty_list)"
   ]
  },
  {
   "cell_type": "markdown",
   "id": "06dc1aa5-9309-46bc-a864-6706832431b2",
   "metadata": {},
   "source": [
    "## 2. Given a list colors, retrieve and print the first and last elements using indexing.\n",
    "##### Input:\n",
    "##### colors = ['red', 'blue', 'green', 'yellow']\n",
    "##### Output:\n",
    "##### red\n",
    "##### yellow\n"
   ]
  },
  {
   "cell_type": "code",
   "execution_count": 34,
   "id": "1515bb30-5be7-492c-bfbc-27072ba2ea24",
   "metadata": {},
   "outputs": [
    {
     "name": "stdout",
     "output_type": "stream",
     "text": [
      "red yellow\n"
     ]
    }
   ],
   "source": [
    "colours=[\"red\",\"blue\",\"green\",\"yellow\"]\n",
    "print(colours[0],colours[3])\n"
   ]
  },
  {
   "cell_type": "markdown",
   "id": "32e038ba-aba2-48c1-a860-33f61874c2bd",
   "metadata": {},
   "source": [
    "## 3. Slice the list fruits to extract only 'banana' and 'orange'.\n",
    "##### Input:fruits = ['apple', 'banana', 'orange', 'grapes', 'mango']\n",
    "##### Output:['banana', 'orange']\n"
   ]
  },
  {
   "cell_type": "code",
   "execution_count": 39,
   "id": "915331dd-aa41-42e6-a710-958eb4c30548",
   "metadata": {},
   "outputs": [
    {
     "name": "stdout",
     "output_type": "stream",
     "text": [
      "['banana', 'orange']\n"
     ]
    }
   ],
   "source": [
    "fruits=['apple','banana','orange','grapes','mango']\n",
    "print(fruits[1:3])"
   ]
  },
  {
   "cell_type": "markdown",
   "id": "36d44912-8956-45c1-a6dd-81ec17bd5a9a",
   "metadata": {},
   "source": [
    "## 4.Reverse the given list using slicing.\n",
    "##### Input:numbers = [1, 2, 3, 4, 5]\n",
    "##### Output:[5, 4, 3, 2, 1]\n"
   ]
  },
  {
   "cell_type": "code",
   "execution_count": 56,
   "id": "20944db8-2a00-4c58-a501-27ed60f6503c",
   "metadata": {},
   "outputs": [
    {
     "name": "stdout",
     "output_type": "stream",
     "text": [
      "[5, 4, 3, 2, 1]\n"
     ]
    }
   ],
   "source": [
    "numbers=[1,2,3,4,5]\n",
    "print(numbers[::-1])"
   ]
  },
  {
   "cell_type": "markdown",
   "id": "67929e27-4632-4811-9f64-a202260c5d44",
   "metadata": {},
   "source": [
    "### 5.Count how many times 'apple' appears in the list.\n",
    "##### Input:fruits = ['apple', 'banana', 'apple', 'orange', 'apple']\n",
    "##### Output:3\n"
   ]
  },
  {
   "cell_type": "code",
   "execution_count": 65,
   "id": "38dea242-6a31-4848-9290-a0d3af13c12c",
   "metadata": {},
   "outputs": [
    {
     "data": {
      "text/plain": [
       "3"
      ]
     },
     "execution_count": 65,
     "metadata": {},
     "output_type": "execute_result"
    }
   ],
   "source": [
    "fruits=['apple', 'banana', 'apple', 'orange', 'apple']\n",
    "fruits.count('apple')"
   ]
  },
  {
   "cell_type": "markdown",
   "id": "c0160c65-e28e-42ca-9aa3-e59aa7265737",
   "metadata": {},
   "source": [
    "## 6. Combine two lists into one.\n",
    "##### Input:\n",
    "##### list1 = [1, 2, 3]\n",
    "##### list2 = [4, 5, 6]\n",
    "##### Output:[1, 2, 3, 4, 5, 6]\n"
   ]
  },
  {
   "cell_type": "code",
   "execution_count": 69,
   "id": "388cb8f0-c86d-494e-8502-b7bac2106929",
   "metadata": {},
   "outputs": [
    {
     "name": "stdout",
     "output_type": "stream",
     "text": [
      "[1, 2, 3, 4, 5, 6]\n"
     ]
    }
   ],
   "source": [
    "list1=[1,2,3]\n",
    "list2=[4,5,6]\n",
    "list1.extend(list2)\n",
    "print(list1)"
   ]
  },
  {
   "cell_type": "markdown",
   "id": "554bf7fc-c095-4551-87f7-f7e9a61dc779",
   "metadata": {},
   "source": [
    "## 7. Insert 'watermelon' at index 2 in the list.\n",
    "### Input:fruits = ['apple', 'banana', 'orange', 'mango']\n",
    "### Output:['apple', 'banana', 'watermelon', 'orange', 'mango']\n"
   ]
  },
  {
   "cell_type": "code",
   "execution_count": 146,
   "id": "b4becffc-0402-4022-b6fd-cf8ea79dd32c",
   "metadata": {},
   "outputs": [
    {
     "name": "stdout",
     "output_type": "stream",
     "text": [
      "['apple', 'banana', 'watermelon', 'orange', 'mango']\n"
     ]
    }
   ],
   "source": [
    "fruits = ['apple', 'banana', 'orange', 'mango']\n",
    "fruits.insert(2,'watermelon')\n",
    "print(fruits)"
   ]
  },
  {
   "cell_type": "markdown",
   "id": "988728ed-aa7d-4ad2-9895-c3a9d65abc5c",
   "metadata": {},
   "source": [
    "## 8. Remove 'orange' from the updated fruits list\n"
   ]
  },
  {
   "cell_type": "code",
   "execution_count": 148,
   "id": "9dea7304-1b83-4ec2-a3cf-c78d9ef6c273",
   "metadata": {},
   "outputs": [
    {
     "name": "stdout",
     "output_type": "stream",
     "text": [
      "['apple', 'banana', 'watermelon', 'mango']\n"
     ]
    }
   ],
   "source": [
    "fruits.remove('orange')\n",
    "print(fruits)"
   ]
  },
  {
   "cell_type": "markdown",
   "id": "f050119e-f825-48a3-9ae7-5efef26eca1b",
   "metadata": {},
   "source": [
    "## 9. Remove the third element from the updated fruits list."
   ]
  },
  {
   "cell_type": "code",
   "execution_count": 150,
   "id": "f741119e-6086-45b9-a6fd-d7b211fa0a29",
   "metadata": {},
   "outputs": [
    {
     "name": "stdout",
     "output_type": "stream",
     "text": [
      "['apple', 'banana', 'mango']\n"
     ]
    }
   ],
   "source": [
    "fruits.pop(2)\n",
    "print(fruits)"
   ]
  },
  {
   "cell_type": "markdown",
   "id": "1d813088-1647-4ff6-a4c0-aa5037b94d7d",
   "metadata": {},
   "source": [
    "### 10. Access 6000 from the nested list.\n",
    "#### Input:nested_list = [10, 20, [300, 400, [5000, 6000], 500], 30, 40]\n"
   ]
  },
  {
   "cell_type": "code",
   "execution_count": 169,
   "id": "5cbbac93-5fc6-44cb-bbcd-c9fceff688d5",
   "metadata": {},
   "outputs": [
    {
     "name": "stdout",
     "output_type": "stream",
     "text": [
      "6000\n"
     ]
    }
   ],
   "source": [
    "nested_list = [10, 20, [300, 400, [5000, 6000], 500], 30, 40]\n",
    "x=(nested_list[2])\n",
    "b=x[2]\n",
    "c=b[1]\n",
    "print(c)"
   ]
  },
  {
   "cell_type": "markdown",
   "id": "6df1847c-95e8-4f48-852c-8fcd0344d499",
   "metadata": {},
   "source": [
    "### 11. Add 7000 after 6000 inside the nested list.\n",
    "### Input:nested_list = [10, 20, [300, 400, [5000, 6000], 500], 30, 40]\n",
    "### Output:[10, 20, [300, 400, [5000, 6000, 7000], 500], 30, 40]\n"
   ]
  },
  {
   "cell_type": "code",
   "execution_count": 181,
   "id": "01a9cd9e-9122-4576-9a5f-e4876b845460",
   "metadata": {},
   "outputs": [
    {
     "name": "stdout",
     "output_type": "stream",
     "text": [
      "[10, 20, [300, 400, [5000, 6000, 7000], 500], 30, 40]\n"
     ]
    }
   ],
   "source": [
    "nested_list = [10, 20, [300, 400, [5000, 6000], 500], 30, 40]\n",
    "x=(nested_list[2])\n",
    "b=x[2]\n",
    "b.append(7000)\n",
    "print(nested_list)"
   ]
  },
  {
   "cell_type": "markdown",
   "id": "26ec61d6-5e1f-4a5c-a147-9aaa66ac2f2a",
   "metadata": {},
   "source": [
    "### 12. Replace the first occurrence of 20 with 200.\n",
    "### Input:numbers = [5, 10, 15, 20, 25, 50, 20]\n",
    "### Output:[5, 10, 15, 200, 25, 50, 20]\n"
   ]
  },
  {
   "cell_type": "code",
   "execution_count": 202,
   "id": "a49b0147-e1c8-4793-85e3-1f14b71de615",
   "metadata": {},
   "outputs": [
    {
     "name": "stdout",
     "output_type": "stream",
     "text": [
      "[5, 10, 15, 200, 25, 50, 20]\n"
     ]
    }
   ],
   "source": [
    "numbers = [5, 10, 15, 20, 25, 50, 20]\n",
    "index=numbers.index(20)\n",
    "numbers[index]=200\n",
    "print(numbers)"
   ]
  },
  {
   "cell_type": "markdown",
   "id": "bb051025-0161-4095-b6b9-be46d248a8d9",
   "metadata": {},
   "source": [
    "## 13. Find the second-largest number in a list after removing duplicates.\n",
    "##### Input:numbers = [10, 20, 4, 45, 99, 99, 98]\n",
    "##### Output:98\n"
   ]
  },
  {
   "cell_type": "code",
   "execution_count": 198,
   "id": "09f6fd2a-e08e-4f90-9523-767a94b820f1",
   "metadata": {},
   "outputs": [
    {
     "name": "stdout",
     "output_type": "stream",
     "text": [
      "98\n"
     ]
    }
   ],
   "source": [
    "numbers = [10, 20, 4, 45, 99, 99, 98]\n",
    "num=set(numbers)\n",
    "num1=list(num)\n",
    "num1.sort()\n",
    "print(num1[-2])\n"
   ]
  }
 ],
 "metadata": {
  "kernelspec": {
   "display_name": "Python [conda env:base] *",
   "language": "python",
   "name": "conda-base-py"
  },
  "language_info": {
   "codemirror_mode": {
    "name": "ipython",
    "version": 3
   },
   "file_extension": ".py",
   "mimetype": "text/x-python",
   "name": "python",
   "nbconvert_exporter": "python",
   "pygments_lexer": "ipython3",
   "version": "3.12.7"
  }
 },
 "nbformat": 4,
 "nbformat_minor": 5
}
