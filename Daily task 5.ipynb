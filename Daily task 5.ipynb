{
 "cells": [
  {
   "cell_type": "markdown",
   "id": "0990197d-bbca-4d06-bd25-18824e2ad694",
   "metadata": {},
   "source": [
    "### Python : Dictionary"
   ]
  },
  {
   "cell_type": "markdown",
   "id": "d58b5b9f-575c-4fe6-8719-804350264c89",
   "metadata": {},
   "source": [
    " ### 1.Restaurant Menu Storage\n",
    "##### Create a dictionary where dish names serve as keys and their prices as values. Display the menu in a user-friendly format.Create a dictionary where dish names serve as keys and their prices as values. Display the menu in a user-friendly format.\n",
    "##### Input: Dishes = [\"Pasta\", \"Biryani\", \"Apricot\"]\n",
    "###### Prices = [200, 300, 180]\n",
    "##### Expected Output:{“Pasta” : 200, ”Biryani” : 300, “Apricot” : 180}\n",
    "\n"
   ]
  },
  {
   "cell_type": "code",
   "execution_count": 90,
   "id": "03ec81d0-0961-4163-9e3b-fc9e3508af34",
   "metadata": {},
   "outputs": [
    {
     "name": "stdout",
     "output_type": "stream",
     "text": [
      "{'Pasta': 200, 'Biryani': 300, 'Apricot': 180}\n"
     ]
    }
   ],
   "source": [
    "Input=[\"Pasta\",\"Biryani\",\"Apricot\"]\n",
    "prices=[200,300,180]\n",
    "#x=dict(zip(Input,prices))\n",
    "#print(x)\n",
    "d={}\n",
    "for i in range(len(Input)):\n",
    "    d[Input[i]]=prices[i]\n",
    "print(d)"
   ]
  },
  {
   "cell_type": "markdown",
   "id": "c9c889c8-ae69-49fd-a439-44cdaa1c4ae2",
   "metadata": {},
   "source": [
    "## 2.English-to-Spanish Translation Dictionary\n",
    "### Create a dictionary for English-to-Spanish translations and return the Spanish equivalent of a given English word.\n"
   ]
  },
  {
   "cell_type": "code",
   "execution_count": null,
   "id": "530342a2-fe50-47b1-a581-67be0415d374",
   "metadata": {},
   "outputs": [],
   "source": [
    "Input:\n",
    "dictionary = {\n",
    "    \"Hello\": \"Hola\",\n",
    "    \"Thank You\": \"Gracias\",\n",
    "    \"Goodbye\": \"Adiós\"\n",
    "}\n",
    "Given word = \"Hello\"\n",
    "Expected Output:\n",
    "Hola\n"
   ]
  },
  {
   "cell_type": "code",
   "execution_count": 15,
   "id": "71d138e3-6d5d-4f1b-a3ae-9e5e90fc1f0a",
   "metadata": {},
   "outputs": [
    {
     "name": "stdout",
     "output_type": "stream",
     "text": [
      "Hola\n"
     ]
    }
   ],
   "source": [
    "dictionary = {\n",
    "    \"Hello\": \"Hola\",\n",
    "    \"Thank You\": \"Gracias\",\n",
    "    \"Goodbye\": \"Adiós\"\n",
    "}\n",
    "given=\"Hello\"\n",
    "print(dictionary[given])\n"
   ]
  },
  {
   "cell_type": "markdown",
   "id": "35079a1d-8b2c-42ec-8dd1-044bf7c160ee",
   "metadata": {},
   "source": [
    "### 3: Student Grade Management\n",
    "### Store student names and grades in a dictionary, allowing users to enter data and calculate the class average."
   ]
  },
  {
   "cell_type": "code",
   "execution_count": null,
   "id": "c7d8d4fe-62d8-42d9-b313-b310a28da88d",
   "metadata": {},
   "outputs": [],
   "source": [
    "Input:\n",
    "grades = {\n",
    "    \"Ved\": 85,\n",
    "    \"Teja\": 90,\n",
    "    \"Pavan\": 78\n",
    "}\n",
    "Expected Output:\n",
    "Average Grade: 84.3\n"
   ]
  },
  {
   "cell_type": "code",
   "execution_count": 22,
   "id": "393cb8d7-28e4-4838-b951-00e16dcdd415",
   "metadata": {},
   "outputs": [
    {
     "name": "stdout",
     "output_type": "stream",
     "text": [
      "Average Grade: 84.33333333333333\n"
     ]
    }
   ],
   "source": [
    "grades = {\n",
    "    \"Ved\": 85,\n",
    "    \"Teja\": 90,\n",
    "    \"Pavan\": 78\n",
    "}\n",
    "avg=sum(grades.values())/len(grades)\n",
    "print(F\"Average Grade: {avg}\")"
   ]
  },
  {
   "cell_type": "markdown",
   "id": "5f257adf-5eac-481c-9bdd-da6dc2b3d347",
   "metadata": {},
   "source": [
    "### 4: Employee Salary Management\n",
    "### Create a dictionary where employee names are keys and salaries are values. Identify the employee with the highest salary."
   ]
  },
  {
   "cell_type": "code",
   "execution_count": null,
   "id": "2b25060f-ad14-4998-bdb1-fcb041042819",
   "metadata": {},
   "outputs": [],
   "source": [
    "Input:\n",
    "salaries = {\n",
    "    \"Ved\": 60000,\n",
    "    \"Pavan\": 75000,\n",
    "    \"Teja\": 50000\n",
    "}\n",
    "Expected Output:\n",
    "Highest Salary: Pavan - ₹75000"
   ]
  },
  {
   "cell_type": "code",
   "execution_count": 99,
   "id": "e2be49fd-0f6c-41fc-91bd-e9278d9e9cad",
   "metadata": {},
   "outputs": [
    {
     "name": "stdout",
     "output_type": "stream",
     "text": [
      "Highest Salary : Pavan - ₹75000\n"
     ]
    }
   ],
   "source": [
    "salaries = {\n",
    "    \"Ved\": 60000,\n",
    "    \"Pavan\": 75000,\n",
    "    \"Teja\": 50000\n",
    "}\n",
    "name = max(salaries,key = salaries.get)\n",
    "salary=max(list(salaries.values()))\n",
    "print(f\"Highest Salary : {name} - ₹{salary}\")"
   ]
  },
  {
   "cell_type": "markdown",
   "id": "40c9ba64-1236-4fb6-94f7-74ab4c9e94b6",
   "metadata": {},
   "source": [
    "### 5: Inventory Management System\n",
    "### Store product names and stock quantities in a dictionary, and implement a function to check stock availability for a given product.\n"
   ]
  },
  {
   "cell_type": "code",
   "execution_count": null,
   "id": "82edbafd-7c28-44ed-a598-d1c51a0adb91",
   "metadata": {},
   "outputs": [],
   "source": [
    "Input:\n",
    "inventory = {\n",
    "    \"Laptop\": 5,\n",
    "    \"Mouse\": 20,\n",
    "    \"Keyboard\": 15\n",
    "}\n",
    "Given product = \"Mouse\"\n",
    "Expected Output:\n",
    "Mouse is available: 20 in stock.\n"
   ]
  },
  {
   "cell_type": "code",
   "execution_count": 44,
   "id": "f7d05fe1-2083-4b42-a38c-36ec2e196728",
   "metadata": {},
   "outputs": [
    {
     "name": "stdout",
     "output_type": "stream",
     "text": [
      "Mouse is available: 20 in stock\n"
     ]
    }
   ],
   "source": [
    "inventory = {\n",
    "    \"Laptop\": 5,\n",
    "    \"Mouse\": 20,\n",
    "    \"Keyboard\": 15\n",
    "}\n",
    "given=\"Mouse\"\n",
    "print(f\"Mouse is available: {inventory[given]} in stock\")"
   ]
  },
  {
   "cell_type": "markdown",
   "id": "949c2052-7ce3-4d03-8a15-d3ee81c9cd29",
   "metadata": {},
   "source": [
    "### 6: Word Frequency Counter\n"
   ]
  },
  {
   "cell_type": "markdown",
   "id": "2917f3bc-26ed-4c74-addb-82026d734bd5",
   "metadata": {},
   "source": [
    "Given a paragraph of text, count the frequency of each unique word and store it in a dictionary.\n",
    "Input:\n",
    "text = \"apple banana apple orange banana apple\"\n",
    "Expected Output:\n",
    "{'apple': 3, 'banana': 2, 'orange': 1}"
   ]
  },
  {
   "cell_type": "code",
   "execution_count": 86,
   "id": "2109115a-0cc4-4fbf-a8d4-78a2e638a696",
   "metadata": {},
   "outputs": [
    {
     "name": "stdout",
     "output_type": "stream",
     "text": [
      "{'apple': 3, 'banana': 2, 'orange': 1}\n"
     ]
    }
   ],
   "source": [
    "text = \"apple banana apple orange banana apple\"\n",
    "list1=text.split()\n",
    "d={}\n",
    "for i in list1:\n",
    "    if i not in d.keys():\n",
    "        d[i]=list1.count(i)\n",
    "print(d)"
   ]
  },
  {
   "cell_type": "markdown",
   "id": "d7c59003-f3de-4918-aae0-5a50ae2fa7ed",
   "metadata": {},
   "source": [
    "### 7. Customer Order Management\n",
    "### Manage customer orders using a dictionary where the key is the order number, and the value is a list of ordered items.\n"
   ]
  },
  {
   "cell_type": "code",
   "execution_count": null,
   "id": "a21ad936-f99e-4f95-8f90-f278791022cb",
   "metadata": {},
   "outputs": [],
   "source": [
    "Input:\n",
    "orders = {\n",
    "    \"1001\": [\"Burger\", \"Fries\"],\n",
    "    \"1002\": [\"Pizza\", \"Soda\"]\n",
    "}\n",
    "order_id = \"1001\"\n",
    "Expected Output:\n",
    "order_id = \"1001\"\n",
    "1001 contains 2 items, they are Burger and Fries\n"
   ]
  },
  {
   "cell_type": "code",
   "execution_count": 117,
   "id": "42bfcb9b-b139-42b1-b116-28c4eea4845e",
   "metadata": {},
   "outputs": [
    {
     "name": "stdin",
     "output_type": "stream",
     "text": [
      "Enter your orderID 1001\n"
     ]
    },
    {
     "name": "stdout",
     "output_type": "stream",
     "text": [
      "1001 contains 3, they are Burger,Fries and Samosa\n"
     ]
    }
   ],
   "source": [
    "orders = {\n",
    "\"1001\": [\"Burger\", \"Fries\",\"Samosa\"],\n",
    "\"1002\": [\"Pizza\", \"Soda\",\"Sprite\"]\n",
    "}\n",
    "\n",
    "user_input = input(\"Enter your orderID\")\n",
    "\n",
    "ordered_items = orders[user_input]\n",
    "x=\",\".join(ordered_items[0:-1]) + f\" and {ordered_items[-1]}\"\n",
    "print(f\"{user_input} contains {len(ordered_items)}, they are {x}\")\n"
   ]
  },
  {
   "cell_type": "code",
   "execution_count": null,
   "id": "f2483f4d-3bdd-46ca-9d22-ede961bace21",
   "metadata": {},
   "outputs": [],
   "source": []
  }
 ],
 "metadata": {
  "kernelspec": {
   "display_name": "Python [conda env:base] *",
   "language": "python",
   "name": "conda-base-py"
  },
  "language_info": {
   "codemirror_mode": {
    "name": "ipython",
    "version": 3
   },
   "file_extension": ".py",
   "mimetype": "text/x-python",
   "name": "python",
   "nbconvert_exporter": "python",
   "pygments_lexer": "ipython3",
   "version": "3.12.7"
  }
 },
 "nbformat": 4,
 "nbformat_minor": 5
}
