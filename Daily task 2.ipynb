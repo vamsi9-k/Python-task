{
 "cells": [
  {
   "cell_type": "markdown",
   "id": "089a677d-f27b-47a6-bb16-01ec103cf729",
   "metadata": {},
   "source": [
    "## Python Task: Strings\n",
    "\n",
    "### Section 1: String \n"
   ]
  },
  {
   "cell_type": "markdown",
   "id": "67a02149-6c34-44df-a879-9a38911942b1",
   "metadata": {},
   "source": [
    "### 1. Mask a credit card number (show only the last 4 digits).\n",
    "\n",
    "### Input: \"1234567812345678\"\n",
    "\n",
    "### Output: \"************5678\"\n"
   ]
  },
  {
   "cell_type": "code",
   "execution_count": null,
   "id": "cf151f28-5dbb-4d2f-8b76-85e269f89794",
   "metadata": {},
   "outputs": [],
   "source": []
  },
  {
   "cell_type": "code",
   "execution_count": 59,
   "id": "30f9602c-876f-450c-b5ab-e95263f42d48",
   "metadata": {},
   "outputs": [
    {
     "name": "stdout",
     "output_type": "stream",
     "text": [
      "************5678\n"
     ]
    }
   ],
   "source": [
    "Input=\"1234567812345678\"\n",
    "stringlen=len(input)\n",
    "masked=stringlen-4\n",
    "print(\"*\"*masked+Input[-4:])\n",
    "## print(\"****************\"+input[-4:])\n"
   ]
  },
  {
   "cell_type": "markdown",
   "id": "22d6fb52-9adf-4795-ae21-d63fbc19d95e",
   "metadata": {},
   "source": [
    "### 2. Extract the domain name from an email address.\n",
    "### Input: \"Ved.M@company.com\"\n",
    "\n",
    "### Output: \"company.com\"\n",
    "\n"
   ]
  },
  {
   "cell_type": "code",
   "execution_count": 55,
   "id": "0e779f39-9fee-4175-9003-c3bcba08feb5",
   "metadata": {},
   "outputs": [
    {
     "name": "stdout",
     "output_type": "stream",
     "text": [
      "company.com\n"
     ]
    }
   ],
   "source": [
    "Input=\"Ved.M@company.com\"\n",
    "x=Input.split(sep=\"@\",maxsplit=-1)\n",
    "print(x[1])"
   ]
  },
  {
   "cell_type": "markdown",
   "id": "d29eeb78-e13c-43c4-a670-24fc2f5ebb25",
   "metadata": {},
   "source": [
    "### 3. Convert a sentence into title case (capitalize the first letter of each word).\n",
    "\n",
    "### Input: \"learning python is fun and powerful\"\n",
    "\n",
    " ### Output: \"Learning Python Is Fun And Powerful\""
   ]
  },
  {
   "cell_type": "code",
   "execution_count": 61,
   "id": "e857e7d6-da29-4a47-9849-0b0b61064ab6",
   "metadata": {},
   "outputs": [
    {
     "name": "stdout",
     "output_type": "stream",
     "text": [
      "Learning Python Is Fun And Powerful\n"
     ]
    }
   ],
   "source": [
    "Input=\"learning python is fun and powerful\"\n",
    "x=Input.title()\n",
    "print(x)"
   ]
  },
  {
   "cell_type": "markdown",
   "id": "7c7c402a-cdc8-4a5d-92fa-2762e019a3e6",
   "metadata": {},
   "source": [
    "### 4.Check if a given sentence is a palindrome.\n",
    "\n",
    " ### Input: \"A man a plan a canal Panama\"\n",
    "\n",
    " ### Output: True"
   ]
  },
  {
   "cell_type": "code",
   "execution_count": 24,
   "id": "07d7ec2a-6d6c-48f1-b54b-4ed005e0c0c7",
   "metadata": {},
   "outputs": [
    {
     "name": "stdout",
     "output_type": "stream",
     "text": [
      "True\n"
     ]
    }
   ],
   "source": [
    "x=\"A man a plan a canal Panama\"\n",
    "word = x.replace(\" \",\"\")\n",
    "rev_word = word[::-1]\n",
    "print(word.upper()==rev_word.upper())"
   ]
  },
  {
   "cell_type": "markdown",
   "id": "3d58af65-407a-45d0-8c16-1f59449ff483",
   "metadata": {},
   "source": [
    "### 5.Replace all occurrences of a word \"Python\" with \"Data Science\" except the first one.\n",
    "\n",
    "### Input: \"Python is great. Python is fun. Python is powerful.\"\n",
    "\n",
    "### Output: \"Python is great. Data Science is fun. Data Science is powerful.\"\n"
   ]
  },
  {
   "cell_type": "code",
   "execution_count": 202,
   "id": "a0ab4427-e55b-49d0-b2b6-ed5bb05e8c12",
   "metadata": {},
   "outputs": [
    {
     "data": {
      "text/plain": [
       "'Python is great.Data Science is fun. Data Science is powerful.'"
      ]
     },
     "execution_count": 202,
     "metadata": {},
     "output_type": "execute_result"
    }
   ],
   "source": [
    "Input=\"Python is great.Python is fun. Python is powerful.\"\n",
    "b= Input.find(\"Python\")\n",
    "Input[:b+1] + Input[b+1:].replace(\"Python\",\"Data Science\")"
   ]
  },
  {
   "cell_type": "markdown",
   "id": "ac830d25-d56a-4b87-a2ee-fb61dff5773e",
   "metadata": {},
   "source": [
    "### 6.Convert a file path to a URL format.\n",
    "\n",
    "### Input: \"C:\\Users\\Ved\\Documents\\file.txt\"\n",
    "\n",
    "### Output: \"C:/Users/Ved/Documents/file.txt\"\n",
    "\n",
    "\n"
   ]
  },
  {
   "cell_type": "code",
   "execution_count": 139,
   "id": "8565fc11-d86f-4922-a4d1-127e46aada86",
   "metadata": {},
   "outputs": [
    {
     "name": "stdout",
     "output_type": "stream",
     "text": [
      "C:/Users/Ved/Documents/file.txt\n"
     ]
    }
   ],
   "source": [
    "Input=r\"C:\\Users\\Ved\\Documents\\file.txt\"\n",
    "Input=Input.replace(\"\\\\\",\"/\")\n",
    "print(Input)"
   ]
  },
  {
   "cell_type": "markdown",
   "id": "06df049e-ad28-4b14-8f21-81c81fc6e8ba",
   "metadata": {},
   "source": [
    "### 7.Extract the first name and last name from a full name.\n",
    "### Input: \"Ved Kumar MT\"\n",
    "### Output: \"First Name: Ved, Last Name: MT\"\n"
   ]
  },
  {
   "cell_type": "code",
   "execution_count": 95,
   "id": "f5f9c13a-f70e-48f7-97d5-6a7fe2442138",
   "metadata": {},
   "outputs": [
    {
     "name": "stdout",
     "output_type": "stream",
     "text": [
      "First Name:ved Last Name:MT\n"
     ]
    }
   ],
   "source": [
    "Input=\"ved Kumar MT\"\n",
    "x=Input.split(sep=\" \",maxsplit=-1)\n",
    "print(\"First Name:\"+x[0]+\" Last Name:\"+x[2])"
   ]
  },
  {
   "cell_type": "markdown",
   "id": "0ca9ba91-a69d-4ab8-b0b1-56ba90410bff",
   "metadata": {},
   "source": [
    "### 8.Find the position of the first and last occurrence of a word “Python”  in a sentence.\n",
    "\n",
    "### Input: \"I love Python because Python is powerful and Python is fun.\"\n",
    "\n",
    "### Output: \"First: 7, Last: 41\"\n"
   ]
  },
  {
   "cell_type": "code",
   "execution_count": 181,
   "id": "527dfe59-28c2-4cef-b3d9-c6b1480f4c80",
   "metadata": {},
   "outputs": [
    {
     "name": "stdout",
     "output_type": "stream",
     "text": [
      "Frist: 7\n"
     ]
    }
   ],
   "source": [
    "Input=\"I love Python because Python is powerful and Python is fun.\"\n",
    "x=Input.find(\"Python\")\n",
    "print(\"Frist:\",x)"
   ]
  },
  {
   "cell_type": "code",
   "execution_count": null,
   "id": "312e79b3-fe30-4f68-9ae4-58a85651c591",
   "metadata": {},
   "outputs": [],
   "source": [
    "\"I love Python because Python is powerful and Python is fun.\""
   ]
  },
  {
   "cell_type": "code",
   "execution_count": 188,
   "id": "01520932-16af-487a-bd99-95077daa5f99",
   "metadata": {},
   "outputs": [
    {
     "name": "stdout",
     "output_type": "stream",
     "text": [
      "Frist: 7\n"
     ]
    }
   ],
   "source": [
    "Input=\"I love Python because Python is powerful and Python is fun.\"\n",
    "x=Input.find(\"Python\")\n",
    "print(\"Frist:\",x)"
   ]
  },
  {
   "cell_type": "code",
   "execution_count": 186,
   "id": "309d6ef6-8728-4bdf-9364-3292a948b153",
   "metadata": {},
   "outputs": [
    {
     "data": {
      "text/plain": [
       "45"
      ]
     },
     "execution_count": 186,
     "metadata": {},
     "output_type": "execute_result"
    }
   ],
   "source": [
    "Input.index('Python is fun')"
   ]
  },
  {
   "cell_type": "markdown",
   "id": "5a8a6d69-1636-4a0e-8c8b-e86a75aa2bda",
   "metadata": {},
   "source": [
    "### 9. Perform various string operations on a given text.\n",
    "\n",
    "### Input: \"$python is fun, python is easy, but python is tough when you don't practice it revise it@”\n",
    "### How many characters are present in the above string?\n",
    "### Split the string using commas (,)\n",
    "### Count the frequency of \"python\"\n",
    "### Count the frequency of \"is\"\n",
    "### Check the results of +, -, *, /, // operations on 3 and 4\n",
    "### Replace \"when \" with \"if and only if\"\n"
   ]
  },
  {
   "cell_type": "code",
   "execution_count": 112,
   "id": "5b8424d6-5a54-427b-ad70-175718d0591c",
   "metadata": {},
   "outputs": [
    {
     "name": "stdout",
     "output_type": "stream",
     "text": [
      "89\n",
      "['$python is fun', ' python is easy', \" but python is tough when you don't practice it revise it@\"]\n",
      "3\n",
      "4\n"
     ]
    }
   ],
   "source": [
    "Input= \"$python is fun, python is easy, but python is tough when you don't practice it revise it@\"\n",
    "length=len(Input)\n",
    "print(length)\n",
    "divide=Input.split(',')\n",
    "print(divide)\n",
    "x=Input.count(\"python\")\n",
    "print(x)\n",
    "count=Input.count(\"is\")\n",
    "print(count)"
   ]
  },
  {
   "cell_type": "code",
   "execution_count": 80,
   "id": "4f0e51bf-8e03-4a0d-a6a3-3f39a09ebffb",
   "metadata": {},
   "outputs": [
    {
     "name": "stdout",
     "output_type": "stream",
     "text": [
      "121\n",
      "-11\n",
      "3630\n",
      "0.8333333333333334\n",
      "0\n"
     ]
    }
   ],
   "source": [
    "num1=55\n",
    "num2=66\n",
    "print(num1+num2)\n",
    "print(num1-num2)\n",
    "print(num1*num2)\n",
    "print(num1/num2)\n",
    "print(num1//num2)"
   ]
  },
  {
   "cell_type": "code",
   "execution_count": 82,
   "id": "3a70722d-4813-406c-9681-206fb39a5f4f",
   "metadata": {},
   "outputs": [
    {
     "name": "stdout",
     "output_type": "stream",
     "text": [
      "$python is fun, python is easy, but python is tough if and only if you don't practice it revise it@\n"
     ]
    }
   ],
   "source": [
    "Input= \"$python is fun, python is easy, but python is tough when you don't practice it revise it@\"\n",
    "x=Input.replace(\"when\",\"if and only if\")\n",
    "print(x)"
   ]
  },
  {
   "cell_type": "markdown",
   "id": "8d6b92f2-935a-49cf-9caf-fa8754192b84",
   "metadata": {},
   "source": [
    "### 10.Perform different operations on a given sentence.\n",
    "### Input: \" Hello World I am learning Python in Innomatics \"\n",
    "### Find the total number of characters in the string.\n",
    "### Extract only the word \"Python\" from the string.\n",
    "### Trim the white spaces from both sides and find the new character count.\n",
    "### Convert the entire string to uppercase.\n",
    "### Find the index position of \"World\" in the string.\n",
    "### Split the string using whitespace, store it in a variable, and print the data type of the resulting variable.\n"
   ]
  },
  {
   "cell_type": "code",
   "execution_count": 126,
   "id": "e169642c-52df-4bf1-86f4-649a93604050",
   "metadata": {},
   "outputs": [
    {
     "name": "stdout",
     "output_type": "stream",
     "text": [
      "Hello World I am learning Python in Innomatics\n",
      "48\n",
      "1\n",
      "46\n",
      " HELLO WORLD I AM LEARNING PYTHON IN INNOMATICS \n",
      "7\n",
      "<class 'list'>\n"
     ]
    }
   ],
   "source": [
    "Input= \" Hello World I am learning Python in Innomatics \"\n",
    "z=Input.strip()\n",
    "print(z)\n",
    "x=len(Input)\n",
    "print(x)\n",
    "count=Input.count(\"Python\")\n",
    "print(count)\n",
    "y=len(z)\n",
    "print(y)\n",
    "up=Input.upper()\n",
    "print(up)\n",
    "look=Input.index(\"World\")\n",
    "print(look)\n",
    "whitespace=Input.split()\n",
    "print(type(whitespace))"
   ]
  },
  {
   "cell_type": "markdown",
   "id": "b18e9737-7a7f-4a77-8e8f-a9491575dda5",
   "metadata": {},
   "source": [
    "### 11.Perform various string operations on a given sentence.\n",
    "### Input: \"Data Science is an evolving field with endless opportunities.\"\n",
    "### Access the first character of the string using indexing.\n",
    "### Access the last character using negative indexing.\n",
    "### Extract the word \"Science\" using forward slicing.\n",
    "### Extract the word \"opportunities\" using reverse slicing.\n",
    "### Print the string in reverse order using slicing.\n"
   ]
  },
  {
   "cell_type": "code",
   "execution_count": 162,
   "id": "5578442f-b480-4c5b-9471-135835803568",
   "metadata": {},
   "outputs": [
    {
     "name": "stdout",
     "output_type": "stream",
     "text": [
      "0\n",
      "14\n",
      "Science\n",
      "opportunities.\n"
     ]
    }
   ],
   "source": [
    "Input=\"Data Science is an evolving field with endless opportunities.\"\n",
    "first=Input.index(\"D\")\n",
    "last=Input.index(\"s\")\n",
    "look=Input[5:12]\n",
    "book=Input[-14:]\n",
    "print(first)\n",
    "print(last)\n",
    "print(look)\n",
    "print(book)"
   ]
  },
  {
   "cell_type": "code",
   "execution_count": null,
   "id": "4427f7ba-e8d7-48c9-a180-3a367a440d12",
   "metadata": {},
   "outputs": [],
   "source": []
  }
 ],
 "metadata": {
  "kernelspec": {
   "display_name": "Python [conda env:base] *",
   "language": "python",
   "name": "conda-base-py"
  },
  "language_info": {
   "codemirror_mode": {
    "name": "ipython",
    "version": 3
   },
   "file_extension": ".py",
   "mimetype": "text/x-python",
   "name": "python",
   "nbconvert_exporter": "python",
   "pygments_lexer": "ipython3",
   "version": "3.12.7"
  }
 },
 "nbformat": 4,
 "nbformat_minor": 5
}
