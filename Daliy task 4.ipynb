{
 "cells": [
  {
   "cell_type": "markdown",
   "id": "a5b5987d-29fd-4f1c-8341-e04ed47fce07",
   "metadata": {},
   "source": [
    "### Python Task: List\n",
    "\n",
    "### Section 1: Sets:\n"
   ]
  },
  {
   "cell_type": "markdown",
   "id": "9aea3bba-a814-4020-afd7-cc42fd12c644",
   "metadata": {},
   "source": [
    "### 1.Create a Python set containing the first 10 even numbers {2, 4, 6,8,10}. Write a program to display this set."
   ]
  },
  {
   "cell_type": "code",
   "execution_count": 3,
   "id": "3bf084d2-7c54-4cea-b4bd-d3cfe6b64a49",
   "metadata": {},
   "outputs": [
    {
     "data": {
      "text/plain": [
       "{2, 4, 6, 8, 10}"
      ]
     },
     "execution_count": 3,
     "metadata": {},
     "output_type": "execute_result"
    }
   ],
   "source": [
    "x={2,4,6,8,10}\n",
    "print(x)"
   ]
  },
  {
   "cell_type": "markdown",
   "id": "ca0bf6f2-dbe8-4514-8f90-44e3c221d8a0",
   "metadata": {},
   "source": [
    "### 2.Set Operations Given two sets, write a Python program to find the union, intersection, and difference of these sets."
   ]
  },
  {
   "cell_type": "code",
   "execution_count": 25,
   "id": "d3de53fc-d3a5-40c2-b099-6d2a5cf6b5e9",
   "metadata": {},
   "outputs": [
    {
     "name": "stdout",
     "output_type": "stream",
     "text": [
      "Union Of X and Y :{2, 3, 4, 5, 6, 7, 8, 9}\n",
      "Intersection Of X and Y :{6}\n",
      "Difference Of X and Y :{2, 3, 4, 5}\n"
     ]
    }
   ],
   "source": [
    "x={2,3,4,5,6}\n",
    "y={6,7,8,9}\n",
    "z=x.union(y)\n",
    "print(f\"Union Of X and Y :{z}\")\n",
    "a=x.intersection(y)\n",
    "print(f\"Intersection Of X and Y :{a}\")\n",
    "b=x.difference(y)\n",
    "print(f\"Difference Of X and Y :{b}\")"
   ]
  },
  {
   "cell_type": "markdown",
   "id": "68a7ccaa-37f0-4b02-b629-6c6a13da482a",
   "metadata": {},
   "source": [
    "### 3.Set Operations and Methods Write a Python program that takes a set of numbers and performs the following operations:\n",
    "##### Add a new number to the set.\n",
    "##### Remove a number from the set.\n",
    "##### Check if a specific number is in the set.\n",
    "##### Find the size of the set."
   ]
  },
  {
   "cell_type": "code",
   "execution_count": 66,
   "id": "b8e8c699-9a12-4b06-8962-3ed894d6a370",
   "metadata": {},
   "outputs": [
    {
     "name": "stdout",
     "output_type": "stream",
     "text": [
      "{25, 90, 45, 23}\n",
      "after updating and deleting elements{50, 23, 25, 90}\n"
     ]
    }
   ],
   "source": [
    "x={23,25,45,90}\n",
    "print(x)\n",
    "a=x.add(50)\n",
    "b=x.remove(45)  \n",
    "print(f\"after updating and deleting elements{x}\")"
   ]
  },
  {
   "cell_type": "code",
   "execution_count": 52,
   "id": "e8e83900-4fc3-46aa-805c-5ca8be96dbcd",
   "metadata": {},
   "outputs": [
    {
     "name": "stdin",
     "output_type": "stream",
     "text": [
      "enter the number 90\n"
     ]
    },
    {
     "name": "stdout",
     "output_type": "stream",
     "text": [
      "Found\n"
     ]
    }
   ],
   "source": [
    "#Check if a specific number is in the set: \n",
    "\n",
    "x={23,25,45,90}\n",
    "i=int(input(\"enter the number\"))\n",
    "if i in x:\n",
    "    print(\"Found\")\n",
    "else:\n",
    "    print(\"not found\")"
   ]
  },
  {
   "cell_type": "code",
   "execution_count": 68,
   "id": "3af18aa8-53e8-4716-beac-dbb24be2c6d5",
   "metadata": {},
   "outputs": [
    {
     "data": {
      "text/plain": [
       "4"
      ]
     },
     "execution_count": 68,
     "metadata": {},
     "output_type": "execute_result"
    }
   ],
   "source": [
    "# Find the size of the set.\n",
    "x={23,25,45,90}\n",
    "len(x)"
   ]
  },
  {
   "cell_type": "markdown",
   "id": "25b584d7-9000-4149-b0e4-d18befbd1238",
   "metadata": {},
   "source": [
    "### 4.Set Operations with Lists Create a Python list with duplicate elements and convert it into a set to remove duplicates. Then, write a program to count how many duplicates were removed."
   ]
  },
  {
   "cell_type": "code",
   "execution_count": 91,
   "id": "84a2262e-505f-4016-a623-7b26aedaf636",
   "metadata": {},
   "outputs": [
    {
     "name": "stdout",
     "output_type": "stream",
     "text": [
      "{99, 6, 7, 8, 9, 23}\n",
      "Total Number of Duplicates removed: 2\n"
     ]
    }
   ],
   "source": [
    "x=[9,8,9,6,6,7,23,99]\n",
    "# type casting into set\n",
    "a=set(x)\n",
    "print(a)\n",
    "b=len(x)-len(a)\n",
    "print(f\"Total Number of Duplicates removed: {b}\")\n",
    "\n"
   ]
  },
  {
   "cell_type": "markdown",
   "id": "dcd9f14a-3f41-4bd6-8ead-33a915aa6096",
   "metadata": {},
   "source": [
    "### 5.Describe Set and properties of Set with examples"
   ]
  },
  {
   "cell_type": "markdown",
   "id": "e27c23c3-2acd-4b19-8781-0ae16e69145c",
   "metadata": {},
   "source": [
    "Sets are used to store multiple items in a single variable.\n",
    "\n",
    "Set is one of 4 built-in data types in Python used to store collections of data, the other 3 are List, Tuple, and Dictionary, all with different qualities and usage.\n",
    "\n",
    "A set is a collection which is unordered, unchangeable*, and unindexed."
   ]
  },
  {
   "cell_type": "code",
   "execution_count": null,
   "id": "510382a5-e419-44fc-b79b-d030e975c99e",
   "metadata": {},
   "outputs": [],
   "source": [
    "thisset = {\"apple\", \"banana\", \"cherry\"}\n",
    "print(thisset)"
   ]
  },
  {
   "cell_type": "markdown",
   "id": "fee07ec9-8dd1-4b8b-a49e-34b2e3bb402d",
   "metadata": {},
   "source": [
    "## 2 - Tuples:\n"
   ]
  },
  {
   "cell_type": "markdown",
   "id": "85c7b081-d154-48df-80e7-84d9e31dae34",
   "metadata": {},
   "source": [
    "### 1.Create a Python tuple containing the names of your favorite fruits. Write a Python program to print each fruit name from the tuple."
   ]
  },
  {
   "cell_type": "code",
   "execution_count": 131,
   "id": "bd5529fd-4d5e-4408-812b-e2377893023b",
   "metadata": {},
   "outputs": [
    {
     "name": "stdout",
     "output_type": "stream",
     "text": [
      "apple\n",
      "banana\n",
      "cherry\n",
      "dragon fruit\n"
     ]
    }
   ],
   "source": [
    "fruits = (\"apple\", \"banana\", \"cherry\",\"dragon fruit\")\n",
    "for i in fruits:\n",
    "    print(i)"
   ]
  },
  {
   "cell_type": "markdown",
   "id": "5a36e3af-ad03-436c-882c-0c5c56ef7016",
   "metadata": {},
   "source": [
    "### 2.Tuple Operations Given two tuples, write a Python program to concatenate them into a single tuple and then find the length of the resulting tuple.\n"
   ]
  },
  {
   "cell_type": "code",
   "execution_count": 106,
   "id": "6d45d84a-a880-4124-997e-7b7528fa6286",
   "metadata": {},
   "outputs": [
    {
     "name": "stdout",
     "output_type": "stream",
     "text": [
      "('a', 'b', 'c', 1, 2, 3)\n",
      "6\n"
     ]
    }
   ],
   "source": [
    "tuple1 = (\"a\", \"b\" , \"c\")\n",
    "tuple2 = (1, 2, 3)\n",
    "\n",
    "tuple3 = tuple1 + tuple2\n",
    "print(tuple3)\n",
    "print(len(tuple3))"
   ]
  },
  {
   "cell_type": "markdown",
   "id": "0056385c-42e0-46ff-8e4d-722944b0511d",
   "metadata": {},
   "source": [
    "### 3.Tuple and Set Conversion Write a Python program that takes a tuple of integers and converts it into a set. Then, find and print the maximum and minimum value from the set.\n"
   ]
  },
  {
   "cell_type": "code",
   "execution_count": 120,
   "id": "59fd2e4d-922b-4291-bfb6-5a5e6831d6bb",
   "metadata": {},
   "outputs": [
    {
     "name": "stdout",
     "output_type": "stream",
     "text": [
      "Maxium value :  3\n",
      "Minimum value :  1\n"
     ]
    }
   ],
   "source": [
    "tuple1 = (1, 2, 3)\n",
    "x=list(tuple1)\n",
    "print(\"Maxium value : \",x[-1])\n",
    "print(\"Minimum value : \",x[0])"
   ]
  },
  {
   "cell_type": "markdown",
   "id": "edec5e18-573c-4bf6-a893-36adf19e6cc8",
   "metadata": {},
   "source": [
    "### 4.Tuple Immutability Explain the concept of immutability in Python tuples with examples. Discuss why tuples are considered immutable data structures.\n"
   ]
  },
  {
   "cell_type": "markdown",
   "id": "cd58aad4-0e9f-4b65-b6f5-c0e7b33a0c5a",
   "metadata": {},
   "source": [
    "Tuple immutability means that once an object is created, it cannot be changed. Tuples are one of Python's immutable data structures. This means that after a tuple is created, you cannot add, remove, or modify its elements"
   ]
  },
  {
   "cell_type": "code",
   "execution_count": 173,
   "id": "e7913fcb-f97a-4461-ab5c-9c490469d535",
   "metadata": {},
   "outputs": [
    {
     "name": "stdout",
     "output_type": "stream",
     "text": [
      "('apple', 'banana', 'cherry')\n"
     ]
    }
   ],
   "source": [
    "thistuple = (\"apple\", \"banana\", \"cherry\")\n",
    "print(thistuple)"
   ]
  },
  {
   "cell_type": "markdown",
   "id": "65e9fd7c-688b-4548-b6a6-fff18eff39d6",
   "metadata": {},
   "source": [
    "### 5.Tuple Slicing Given a tuple of 10 elements, write a Python program to print the elements from the 3rd to the 7th position using slicing."
   ]
  },
  {
   "cell_type": "code",
   "execution_count": 125,
   "id": "c6b7c4eb-62d0-4e7b-9788-2d57e9e14ffb",
   "metadata": {},
   "outputs": [
    {
     "name": "stdout",
     "output_type": "stream",
     "text": [
      "Postions of elements from 3rd to 7th are:  [38, 8, 6, 7, 99]\n"
     ]
    }
   ],
   "source": [
    "tuple1=(9,12,25,38,8,6,7,99,999,9999)\n",
    "list2=list(tuple1)\n",
    "print(\"Postions of elements from 3rd to 7th are: \",list2[3:8])"
   ]
  },
  {
   "cell_type": "markdown",
   "id": "eb8b0cd2-5063-46ef-9fe9-7410b786a32a",
   "metadata": {},
   "source": [
    "### 6.Tuple and Set Combinations Create a tuple containing the names of your friend's favorite movies and a set containing the names of your favorite movies. Write a Python program to find and display common elements"
   ]
  },
  {
   "cell_type": "code",
   "execution_count": 128,
   "id": "14a81cc5-d6b4-492a-ba40-500556d747fc",
   "metadata": {},
   "outputs": [
    {
     "name": "stdout",
     "output_type": "stream",
     "text": [
      "{'vrindavan', 'Radha', 'krishna'}\n"
     ]
    }
   ],
   "source": [
    "fav1=(\"Radha\",\"vrindavan\",\"kusmapriya\",\"krishna\",\"giriraj\")\n",
    "fav2={\"krishna\",\"Banglore\",\"Ram krishna\",\"ls\",\"Radha\",\"vrindavan\"}\n",
    "x=set(fav1)\n",
    "y=x.intersection(fav2)\n",
    "print(y)"
   ]
  },
  {
   "cell_type": "markdown",
   "id": "c856b6ee-1380-43e0-a73e-48bf1be4190f",
   "metadata": {},
   "source": [
    "### 7.tup=(1,2,3,2,4,5,3,4,2). Count the occurrences of element ‘2’ in the given tuple.\n"
   ]
  },
  {
   "cell_type": "code",
   "execution_count": 133,
   "id": "949c9c1d-4e6d-4756-ae2b-157fef7d923e",
   "metadata": {},
   "outputs": [
    {
     "name": "stdout",
     "output_type": "stream",
     "text": [
      "3\n"
     ]
    }
   ],
   "source": [
    "tup=(1,2,3,2,4,5,3,4,2)\n",
    "lis=list(tup)\n",
    "x=lis.count(2)\n",
    "print(x)"
   ]
  },
  {
   "cell_type": "markdown",
   "id": "b2d637ae-aa90-4360-b742-1675d81f5de6",
   "metadata": {},
   "source": [
    "### 8. Access value 20 from the tuple, \n",
    "### tuple1 = (\"Orange\", [10, 20, 30], (5, 15, 25))\n"
   ]
  },
  {
   "cell_type": "code",
   "execution_count": 141,
   "id": "254a9bf7-11eb-4a6d-b772-a8d72d416206",
   "metadata": {},
   "outputs": [
    {
     "name": "stdout",
     "output_type": "stream",
     "text": [
      "20\n"
     ]
    }
   ],
   "source": [
    "tuple1 = (\"Orange\", [10, 20, 30], (5, 15, 25))\n",
    "lis=list(tuple1)\n",
    "list1=lis[1]\n",
    "print(list1[1])"
   ]
  },
  {
   "cell_type": "markdown",
   "id": "7c1732e1-ada7-493e-8afa-02a674cc741a",
   "metadata": {},
   "source": [
    "### Create a dictionary with key-value pairs for a person's name and age.\n",
    "### Add a new key-value pair \"city\" with the value \"Delhi\" to the person dictionary.\n",
    "### Remove the key-value pair with the key \"age\" from the person dictionary.\n",
    "### Sort the person's dictionary by its keys.\n"
   ]
  },
  {
   "cell_type": "code",
   "execution_count": 177,
   "id": "74014c81-3768-457d-8c12-6d429e3a2c21",
   "metadata": {},
   "outputs": [
    {
     "name": "stdout",
     "output_type": "stream",
     "text": [
      "{'name': 'Krishna', 'Age': 20, 'city': 'Delhi'}\n"
     ]
    }
   ],
   "source": [
    "dic={\"name\":\"Krishna\",\"Age\":20}\n",
    "dic[\"city\"]=\"Delhi\"\n",
    "print(dic)\n"
   ]
  },
  {
   "cell_type": "code",
   "execution_count": 179,
   "id": "b057c457-156a-4da5-abc4-6beaca08ce4f",
   "metadata": {},
   "outputs": [
    {
     "name": "stdout",
     "output_type": "stream",
     "text": [
      "{'name': 'Krishna', 'city': 'Delhi'}\n"
     ]
    }
   ],
   "source": [
    "dic.pop(\"Age\")\n",
    "print(dic)"
   ]
  },
  {
   "cell_type": "code",
   "execution_count": 181,
   "id": "dcf8ed72-0e39-4c2d-9095-e9b432e5bdb3",
   "metadata": {},
   "outputs": [
    {
     "data": {
      "text/plain": [
       "dict_keys(['name', 'city'])"
      ]
     },
     "execution_count": 181,
     "metadata": {},
     "output_type": "execute_result"
    }
   ],
   "source": [
    "dic.keys()"
   ]
  },
  {
   "cell_type": "code",
   "execution_count": 183,
   "id": "4de95653-3ac2-4c4b-bca2-2e47c22fb334",
   "metadata": {},
   "outputs": [
    {
     "data": {
      "text/plain": [
       "['city', 'name']"
      ]
     },
     "execution_count": 183,
     "metadata": {},
     "output_type": "execute_result"
    }
   ],
   "source": [
    "sorted(dic)"
   ]
  },
  {
   "cell_type": "code",
   "execution_count": null,
   "id": "125d6833-80f8-4b6c-85b2-58b0e8bd34de",
   "metadata": {},
   "outputs": [],
   "source": []
  }
 ],
 "metadata": {
  "kernelspec": {
   "display_name": "Python [conda env:base] *",
   "language": "python",
   "name": "conda-base-py"
  },
  "language_info": {
   "codemirror_mode": {
    "name": "ipython",
    "version": 3
   },
   "file_extension": ".py",
   "mimetype": "text/x-python",
   "name": "python",
   "nbconvert_exporter": "python",
   "pygments_lexer": "ipython3",
   "version": "3.12.7"
  }
 },
 "nbformat": 4,
 "nbformat_minor": 5
}
