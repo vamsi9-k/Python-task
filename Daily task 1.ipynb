{
 "cells": [
  {
   "cell_type": "markdown",
   "id": "e962c7eb-ce41-4d52-9760-73585d025a20",
   "metadata": {
    "jp-MarkdownHeadingCollapsed": true
   },
   "source": [
    "# section 1 Identifiers"
   ]
  },
  {
   "cell_type": "markdown",
   "id": "2e1eb708-e7ab-4c12-97d9-4730d52ff12a",
   "metadata": {},
   "source": [
    "# 1. Run the given identifiers and categorize them into valid and invalid ones."
   ]
  },
  {
   "cell_type": "code",
   "execution_count": 134,
   "id": "6bb40d13-7367-453b-b880-e619fbf7f59d",
   "metadata": {},
   "outputs": [
    {
     "ename": "SyntaxError",
     "evalue": "invalid decimal literal (3982724282.py, line 4)",
     "output_type": "error",
     "traceback": [
      "\u001b[1;36m  Cell \u001b[1;32mIn[134], line 4\u001b[1;36m\u001b[0m\n\u001b[1;33m    123abc = 34\u001b[0m\n\u001b[1;37m      ^\u001b[0m\n\u001b[1;31mSyntaxError\u001b[0m\u001b[1;31m:\u001b[0m invalid decimal literal\n"
     ]
    }
   ],
   "source": [
    "my_variable = 25\n",
    "counter = 40.7\n",
    "_total = \"Hello\"\n",
    "123abc = 34\n",
    "my variable =6.7\n",
    "@count = \"hi\"\n",
    "for = \"True\"\n",
    "Name123 = 136\n",
    "myFunction = True\n",
    "_data = False\n",
    "if_condition? = \"Innomatics\"\n",
    "class = \"Hyderabad\""
   ]
  },
  {
   "cell_type": "markdown",
   "id": "fa7292a9-2a84-4792-9c85-0be75199d441",
   "metadata": {},
   "source": [
    "# valid data "
   ]
  },
  {
   "cell_type": "code",
   "execution_count": 137,
   "id": "4bb70536-c510-473d-ac73-e0c9640cb3e5",
   "metadata": {},
   "outputs": [],
   "source": [
    "my_variable = 25\n",
    "counter = 40.7\n",
    "_total = \"Hello\"\n",
    "Name123 = 136\n",
    "myFunction = True\n",
    "_data = False"
   ]
  },
  {
   "cell_type": "markdown",
   "id": "d24ce322-1e9d-4f83-ba21-4d67152b7aa9",
   "metadata": {},
   "source": [
    "# Invalid Data"
   ]
  },
  {
   "cell_type": "code",
   "execution_count": 56,
   "id": "850159ee-7825-4487-a243-511a8d8b2824",
   "metadata": {},
   "outputs": [
    {
     "ename": "SyntaxError",
     "evalue": "invalid decimal literal (1400142824.py, line 1)",
     "output_type": "error",
     "traceback": [
      "\u001b[1;36m  Cell \u001b[1;32mIn[56], line 1\u001b[1;36m\u001b[0m\n\u001b[1;33m    123abc = 34\u001b[0m\n\u001b[1;37m      ^\u001b[0m\n\u001b[1;31mSyntaxError\u001b[0m\u001b[1;31m:\u001b[0m invalid decimal literal\n"
     ]
    }
   ],
   "source": [
    "123abc = 34\n",
    "for = \"True\"\n",
    "class = \"Hyderabad\"\n",
    "@count = \"hi\"\n",
    "if_condition? = \"Innomatics\"\n",
    "my variable =6.7"
   ]
  },
  {
   "cell_type": "markdown",
   "id": "15a435c3-8324-4db1-9e9d-b48fb86de328",
   "metadata": {},
   "source": [
    "# 2.Explain why Python treats some identifiers as invalid."
   ]
  },
  {
   "cell_type": "markdown",
   "id": "75a03a36-98c4-4103-8a22-6dd0d7d6ceeb",
   "metadata": {},
   "source": [
    "python is a case senitive programming language. \\\n",
    "\n",
    "Python treats some identifiers as invalid.\n",
    "\n",
    "Due to the following reasons:\n",
    "\n",
    "1.An identifier must start with alphabet or under score(_)\n",
    "\n",
    "2.An Identifier shouldn't start with numeric values.\n",
    "\n",
    "3. Key word is a reserved word, so a key word can't be used as an identifier.\n",
    "\n",
    "4.An identifier doesn't posses any special character i.e.,@,#,$....\n",
    "\n",
    "5.An identifier should not have any \"space\" between the characters.\n",
    "\n",
    "I\n",
    "\n",
    "By considering all the above constraints, python treats some identifiers as invalid."
   ]
  },
  {
   "cell_type": "markdown",
   "id": "ee476b71-ee94-43ea-b1b3-1abd4d8e7a55",
   "metadata": {},
   "source": [
    "# 3.Rewrite the invalid identifiers correctly."
   ]
  },
  {
   "cell_type": "code",
   "execution_count": 63,
   "id": "949fd3bf-ce43-4e80-97fa-96c7629fbf59",
   "metadata": {},
   "outputs": [],
   "source": [
    "my_variable = 25\n",
    "counter = 40.7\n",
    "_total = \"Hello\"\n",
    "x123abc = 34\n",
    "my_variable =6.7\n",
    "count = \"hi\"\n",
    "for1 = \"True\"\n",
    "Name123 = 136\n",
    "myFunction = True\n",
    "_data = False\n",
    "if_condition = \"Innomatics\"\n",
    "class2 = \"Hyderabad\""
   ]
  },
  {
   "cell_type": "markdown",
   "id": "b094950d-c0e4-4c98-ac5d-fb565e01af2d",
   "metadata": {},
   "source": [
    "# 4.Assign different valid identifiers to given values."
   ]
  },
  {
   "cell_type": "code",
   "execution_count": 74,
   "id": "fb3b831c-f969-4e27-92df-6021f0b29960",
   "metadata": {},
   "outputs": [],
   "source": [
    "num=10\n",
    "num1=-5\n",
    "flow=3.14159\n",
    "math=-0.12345\n",
    "cash=1000\n",
    "hello=\"hello word\"\n",
    "lang=\"python\"\n",
    "test=\"i am learning\"\n",
    "learn=\"type text\"\n",
    "char=\"string\"\n",
    "i_s= \"TRUE\"\n",
    "i_f=\"FALSE\""
   ]
  },
  {
   "cell_type": "markdown",
   "id": "61a49caf-0d2b-46f1-95ef-e23228efdf44",
   "metadata": {},
   "source": [
    "# section 2  Operators\n",
    "\n",
    "# Arithmetic Operators\n"
   ]
  },
  {
   "cell_type": "markdown",
   "id": "e929251b-2526-4b6f-85a2-0974fc56a674",
   "metadata": {},
   "source": [
    "# 1.Define two variables and perform operations using arithmetic operators (+, -, *, /, //, %, **).\n"
   ]
  },
  {
   "cell_type": "code",
   "execution_count": 86,
   "id": "157d4395-6384-49d5-8420-f62eff1439e3",
   "metadata": {},
   "outputs": [
    {
     "name": "stdout",
     "output_type": "stream",
     "text": [
      "25\n",
      "5\n",
      "150\n",
      "1.5\n",
      "1\n",
      "5\n",
      "576650390625\n"
     ]
    }
   ],
   "source": [
    "value1=10\n",
    "value2=15\n",
    "#add\n",
    "print(value1+value2)\n",
    "#sub\n",
    "print(value2-value1)\n",
    "#mulitiply\n",
    "print(value1*value2)\n",
    "#divison\n",
    "print(value2/value1)\n",
    "#floor division\t\n",
    "print(value2//value1)\n",
    "#modulus division\n",
    "print(value2%value1)\n",
    "#exponentiation\n",
    "print(value2**value1)\n"
   ]
  },
  {
   "cell_type": "markdown",
   "id": "a7ef0bb7-204b-4c78-9d2b-dae5faf212d4",
   "metadata": {},
   "source": [
    "# 2.You have a floor that is 95 meters long and 58.8 meter wide. Find out the total area using python and print it. "
   ]
  },
  {
   "cell_type": "code",
   "execution_count": 89,
   "id": "8200eecf-80ea-41d5-b51e-5d4e8a9c741f",
   "metadata": {},
   "outputs": [
    {
     "name": "stdout",
     "output_type": "stream",
     "text": [
      "Total area of length and wide is :  5586.0\n"
     ]
    }
   ],
   "source": [
    "length=95\n",
    "wide=58.8\n",
    "area=length*wide\n",
    "print(\"Total area of Rectangle is : \",area)"
   ]
  },
  {
   "cell_type": "markdown",
   "id": "5f1b89f4-3be3-46ff-9b48-9f2a010e6527",
   "metadata": {},
   "source": [
    "#  Logical Operators\n"
   ]
  },
  {
   "cell_type": "markdown",
   "id": "0b6a0f03-c053-473f-93de-fb7ff7057548",
   "metadata": {},
   "source": [
    "### 1.Create a Python script that defines two boolean variables, is_sunny and is_warm, with appropriate values (True or False).\n"
   ]
  },
  {
   "cell_type": "code",
   "execution_count": 101,
   "id": "d009d45e-023c-4564-8fe8-280ae4142dbe",
   "metadata": {},
   "outputs": [
    {
     "name": "stdout",
     "output_type": "stream",
     "text": [
      "False\n"
     ]
    }
   ],
   "source": [
    "is_sunny=True\n",
    "is_warm=False\n",
    "print(is_sunny and is_warm)"
   ]
  },
  {
   "cell_type": "markdown",
   "id": "84063653-35ae-4ccf-b590-b8d67666122d",
   "metadata": {},
   "source": [
    "### Use logical operators (and, or, not) to create the following conditions:\n",
    "### Check if it's both sunny and warm and print the result.\n",
    "### Check if it's either sunny or warm and print the result.\n",
    "### Check if it's not sunny and print the result.\n"
   ]
  },
  {
   "cell_type": "code",
   "execution_count": 118,
   "id": "1eabc0b3-ae4b-40de-8115-0f2e3400a584",
   "metadata": {},
   "outputs": [
    {
     "name": "stdout",
     "output_type": "stream",
     "text": [
      "False\n",
      "True\n",
      "True\n"
     ]
    }
   ],
   "source": [
    "print(is_sunny and is_warm)\n",
    "print(is_sunny or is_warm)\n",
    "print(not(is_sunny and is_warm))"
   ]
  },
  {
   "cell_type": "markdown",
   "id": "0700d883-38ad-4943-a71a-dd6fb491eb59",
   "metadata": {},
   "source": [
    "## Comparison Operators\n"
   ]
  },
  {
   "cell_type": "markdown",
   "id": "a840e84b-e675-48bd-a142-dfbfb09c1a26",
   "metadata": {},
   "source": [
    "# 1.Create a Python script that defines two variables, value1 and value2, with any numeric values.\n"
   ]
  },
  {
   "cell_type": "code",
   "execution_count": null,
   "id": "dad973ba-1d19-41fb-b326-8baa93de2860",
   "metadata": {},
   "outputs": [],
   "source": [
    "#defining the values with variables\n",
    "value1=15\n",
    "value2=25"
   ]
  },
  {
   "cell_type": "markdown",
   "id": "d9115350-023d-4c8f-a0f1-39a7c0363c85",
   "metadata": {},
   "source": [
    "##### 2.Use comparative operators (==, !=, <, >, <=, >=) to create the following conditions:\n",
    "##### Check if value1 is equal to value2 and print the result.\n",
    "##### Check if value1 is not equal to value2 and print the result.\n",
    "##### Check if value1 is less than value2 and print the result.\n",
    "##### Check if value1 is greater than value2 and print the result.\n",
    "##### Check if value1 is less than or equal to value2 and print the result.\n",
    "##### Check if value1 is greater than or equal to value2 and print the result.\n"
   ]
  },
  {
   "cell_type": "code",
   "execution_count": 130,
   "id": "6ef0aa9e-5657-403b-b1db-ff7f35fe9d83",
   "metadata": {},
   "outputs": [
    {
     "name": "stdout",
     "output_type": "stream",
     "text": [
      "False\n",
      "True\n",
      "False\n",
      "True\n",
      "True\n",
      "False\n"
     ]
    }
   ],
   "source": [
    "print( value1 ==value2)\n",
    "print( value1 !=value2)\n",
    "print( value1 >value2)\n",
    "print( value1 <value2)\n",
    "print( value1 <=value2)\n",
    "print( value1 >=value2)\n",
    "\n"
   ]
  }
 ],
 "metadata": {
  "kernelspec": {
   "display_name": "Python [conda env:base] *",
   "language": "python",
   "name": "conda-base-py"
  },
  "language_info": {
   "codemirror_mode": {
    "name": "ipython",
    "version": 3
   },
   "file_extension": ".py",
   "mimetype": "text/x-python",
   "name": "python",
   "nbconvert_exporter": "python",
   "pygments_lexer": "ipython3",
   "version": "3.12.7"
  }
 },
 "nbformat": 4,
 "nbformat_minor": 5
}
